{
 "cells": [
  {
   "cell_type": "markdown",
   "id": "4deba72a",
   "metadata": {},
   "source": [
    "# Comparison of GWLinearRegression to MGWR's implementation\n",
    "\n",
    "Both should yield the same results."
   ]
  },
  {
   "cell_type": "code",
   "execution_count": 15,
   "id": "5fbb308f",
   "metadata": {},
   "outputs": [],
   "source": [
    "import geopandas as gpd\n",
    "import pandas as pd\n",
    "from geodatasets import get_path\n",
    "from mgwr.gwr import GWR\n",
    "from numpy.testing import assert_array_almost_equal\n",
    "\n",
    "from gwlearn.linear_model import GWLinearRegression\n"
   ]
  },
  {
   "cell_type": "code",
   "execution_count": 2,
   "id": "bf51b59f",
   "metadata": {},
   "outputs": [],
   "source": [
    "gdf = gpd.read_file(get_path(\"geoda.ncovr\"))"
   ]
  },
  {
   "cell_type": "code",
   "execution_count": 3,
   "id": "16e99551",
   "metadata": {},
   "outputs": [
    {
     "data": {
      "text/plain": [
       "(3085, 70)"
      ]
     },
     "execution_count": 3,
     "metadata": {},
     "output_type": "execute_result"
    }
   ],
   "source": [
    "gdf.shape"
   ]
  },
  {
   "cell_type": "code",
   "execution_count": 4,
   "id": "7e884beb",
   "metadata": {},
   "outputs": [],
   "source": [
    "# It is in the geographic coords in the  US and we need to work with distances. Re-project and use only points as the graph builder will require points anyway.\n",
    "gdf = gdf.set_geometry(gdf.representative_point()).to_crs(5070)"
   ]
  },
  {
   "cell_type": "code",
   "execution_count": 5,
   "id": "4456c776",
   "metadata": {},
   "outputs": [],
   "source": [
    "y = gdf[\"FH90\"]"
   ]
  },
  {
   "cell_type": "markdown",
   "id": "b268576d",
   "metadata": {},
   "source": [
    "## Adaptive bisquare\n",
    "\n",
    "gwlearn"
   ]
  },
  {
   "cell_type": "code",
   "execution_count": 12,
   "id": "c50f63f6",
   "metadata": {},
   "outputs": [],
   "source": [
    "gwlr = GWLinearRegression(\n",
    "    bandwidth=249,\n",
    "    fixed=False,\n",
    "    n_jobs=-1,\n",
    "    keep_models=False,\n",
    ")\n",
    "gwlr.fit(\n",
    "    gdf.iloc[:, 9:15],\n",
    "    y,\n",
    "    gdf.geometry,\n",
    ")"
   ]
  },
  {
   "cell_type": "markdown",
   "id": "bdeda692",
   "metadata": {},
   "source": [
    "mgwr"
   ]
  },
  {
   "cell_type": "code",
   "execution_count": 13,
   "id": "d731bac0",
   "metadata": {},
   "outputs": [],
   "source": [
    "gwr = GWR(coords=gdf.geometry.get_coordinates(), y=y.values.reshape(-1, 1), X=gdf.iloc[:, 9:15].values, bw=250, fixed=False)\n",
    "res = gwr.fit()"
   ]
  },
  {
   "cell_type": "markdown",
   "id": "f727118f",
   "metadata": {},
   "source": [
    "Local R2"
   ]
  },
  {
   "cell_type": "code",
   "execution_count": 16,
   "id": "d136d2ad",
   "metadata": {},
   "outputs": [],
   "source": [
    "assert_array_almost_equal(gwlr.local_r2_, res.localR2.flatten())"
   ]
  },
  {
   "cell_type": "markdown",
   "id": "6092e4e0",
   "metadata": {},
   "source": [
    "Pred y"
   ]
  },
  {
   "cell_type": "code",
   "execution_count": 17,
   "id": "201bd246",
   "metadata": {},
   "outputs": [],
   "source": [
    "assert_array_almost_equal(gwlr.focal_pred_, res.predy.flatten())"
   ]
  },
  {
   "cell_type": "markdown",
   "id": "81b8238d",
   "metadata": {},
   "source": [
    "TSS"
   ]
  },
  {
   "cell_type": "code",
   "execution_count": 18,
   "id": "acda028c",
   "metadata": {},
   "outputs": [],
   "source": [
    "assert_array_almost_equal(gwlr.TSS, res.TSS.flatten())"
   ]
  },
  {
   "cell_type": "markdown",
   "id": "3eb084e2",
   "metadata": {},
   "source": [
    "RSS"
   ]
  },
  {
   "cell_type": "code",
   "execution_count": 19,
   "id": "ca997399",
   "metadata": {},
   "outputs": [],
   "source": [
    "assert_array_almost_equal(gwlr.RSS, res.RSS.flatten())"
   ]
  }
 ],
 "metadata": {
  "kernelspec": {
   "display_name": "default",
   "language": "python",
   "name": "python3"
  },
  "language_info": {
   "codemirror_mode": {
    "name": "ipython",
    "version": 3
   },
   "file_extension": ".py",
   "mimetype": "text/x-python",
   "name": "python",
   "nbconvert_exporter": "python",
   "pygments_lexer": "ipython3",
   "version": "3.13.2"
  }
 },
 "nbformat": 4,
 "nbformat_minor": 5
}
