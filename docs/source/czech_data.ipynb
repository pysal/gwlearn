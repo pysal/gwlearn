{
 "cells": [
  {
   "cell_type": "code",
   "execution_count": 1,
   "id": "64328df4",
   "metadata": {},
   "outputs": [],
   "source": [
    "import pathlib\n",
    "from glob import glob\n",
    "\n",
    "import geopandas as gpd\n",
    "import joblib\n",
    "import numpy as np\n",
    "import pandas as pd\n",
    "\n",
    "from gwlearn.ensemble import GWRandomForestClassifier\n",
    "from gwlearn.linear_model import GWLogisticRegression\n",
    "from gwlearn.search import BandwidthSearch"
   ]
  },
  {
   "cell_type": "code",
   "execution_count": 2,
   "id": "52d8006f",
   "metadata": {},
   "outputs": [
    {
     "data": {
      "text/plain": [
       "'0.1.dev69+gd54e68e.d20250703'"
      ]
     },
     "execution_count": 2,
     "metadata": {},
     "output_type": "execute_result"
    }
   ],
   "source": [
    "import gwlearn\n",
    "\n",
    "gwlearn.__version__"
   ]
  },
  {
   "cell_type": "code",
   "execution_count": 3,
   "id": "ccf93264",
   "metadata": {},
   "outputs": [],
   "source": [
    "storage_options = {\n",
    "    \"client_kwargs\": {\n",
    "        \"endpoint_url\": \"https://s3.cl4.du.cesnet.cz\",\n",
    "    },\n",
    "    \"profile\": \"uscuni\"\n",
    "}\n",
    "\n",
    "\n",
    "pcas = gpd.read_parquet(\"s3://uscuni-restricted/05_pcs/pcs_29.parquet\", storage_options=storage_options)\n",
    "clusters = pd.read_csv(\n",
    "    \"s3://uscuni-restricted/04_spatial_census/cluster_assignment_v10.csv\",\n",
    "    dtype={\"kod_nadzsj_d\": str},\n",
    "    storage_options=storage_options\n",
    ")\n",
    "cluster_mapping = pd.read_parquet(\n",
    "    \"s3://uscuni-ulce/processed_data/clusters/cluster_mapping_v10.pq\", storage_options=storage_options\n",
    ")\n",
    "data = pcas.merge(clusters, left_on=\"nadzsjd\", right_on=\"kod_nadzsj_d\")\n",
    "variables = data.columns.drop([\"geometry\", \"kod_nadzsj_d\", \"final_without_noise\"])\n"
   ]
  },
  {
   "cell_type": "code",
   "execution_count": 4,
   "id": "16cda94f",
   "metadata": {},
   "outputs": [
    {
     "data": {
      "text/plain": [
       "final_without_noise\n",
       "4    2145\n",
       "5    1013\n",
       "3     544\n",
       "7     406\n",
       "1     361\n",
       "8     326\n",
       "2     119\n",
       "6      86\n",
       "Name: count, dtype: int64"
      ]
     },
     "execution_count": 4,
     "metadata": {},
     "output_type": "execute_result"
    }
   ],
   "source": [
    "data_sample = data.sample(5000)\n",
    "\n",
    "mapped = data_sample[\"final_without_noise\"].map(cluster_mapping[3])\n",
    "mapped.value_counts()"
   ]
  },
  {
   "cell_type": "code",
   "execution_count": 5,
   "id": "b95d9512",
   "metadata": {},
   "outputs": [
    {
     "data": {
      "text/plain": [
       "np.float64(0.0172)"
      ]
     },
     "execution_count": 5,
     "metadata": {},
     "output_type": "execute_result"
    }
   ],
   "source": [
    "y = mapped == 6\n",
    "y.sum() / y.shape[0]"
   ]
  },
  {
   "cell_type": "code",
   "execution_count": 14,
   "id": "8a0cdd95",
   "metadata": {},
   "outputs": [
    {
     "name": "stdout",
     "output_type": "stream",
     "text": [
      "0.00s: Building weights\n",
      "0.22s: Weights ready\n",
      "0.22s: Fitting the models\n",
      "10.92s: Models fitted\n",
      "11.04s: Measuring focal performance\n",
      "11.04s: Computing global likelihood\n",
      "11.04s: Computing information criteria\n",
      "11.05s: Measuring pooled performance\n",
      "11.05s: Measuring local pooled performance\n",
      "11.07s: Finished\n",
      "Bandwidth: 100.00, aicc: nan\n",
      "0.00s: Building weights\n",
      "0.30s: Weights ready\n",
      "0.30s: Fitting the models\n",
      "7.36s: Models fitted\n",
      "7.47s: Measuring focal performance\n",
      "7.47s: Computing global likelihood\n",
      "7.47s: Computing information criteria\n",
      "7.48s: Measuring pooled performance\n",
      "7.48s: Measuring local pooled performance\n",
      "7.50s: Finished\n",
      "Bandwidth: 150.00, aicc: nan\n",
      "0.00s: Building weights\n",
      "0.38s: Weights ready\n",
      "0.38s: Fitting the models\n",
      "5.82s: Models fitted\n",
      "5.93s: Measuring focal performance\n",
      "5.93s: Computing global likelihood\n",
      "5.93s: Computing information criteria\n",
      "5.93s: Measuring pooled performance\n",
      "5.94s: Measuring local pooled performance\n",
      "5.96s: Finished\n",
      "Bandwidth: 200.00, aicc: nan\n",
      "0.00s: Building weights\n",
      "0.48s: Weights ready\n",
      "0.48s: Fitting the models\n",
      "6.09s: Models fitted\n",
      "6.21s: Measuring focal performance\n",
      "6.21s: Computing global likelihood\n",
      "6.21s: Computing information criteria\n",
      "6.22s: Measuring pooled performance\n",
      "6.22s: Measuring local pooled performance\n",
      "6.24s: Finished\n",
      "Bandwidth: 250.00, aicc: nan\n",
      "0.00s: Building weights\n",
      "0.57s: Weights ready\n",
      "0.57s: Fitting the models\n",
      "2.63s: Models fitted\n",
      "2.74s: Measuring focal performance\n",
      "2.75s: Computing global likelihood\n",
      "2.75s: Computing information criteria\n",
      "2.75s: Measuring pooled performance\n",
      "Bandwidth: 300.00, aicc: nan\n",
      "0.00s: Building weights\n"
     ]
    },
    {
     "name": "stderr",
     "output_type": "stream",
     "text": [
      "/Users/martin/dev/pysal/gwlearn/gwlearn/search.py:145: UserWarning: No models fitted due to inability to fulfil imbalance rules.\n",
      "  ).fit(X=X, y=y)\n"
     ]
    },
    {
     "name": "stdout",
     "output_type": "stream",
     "text": [
      "0.85s: Weights ready\n",
      "0.85s: Fitting the models\n",
      "2.98s: Models fitted\n",
      "3.09s: Measuring focal performance\n",
      "3.09s: Computing global likelihood\n",
      "3.09s: Computing information criteria\n",
      "3.10s: Measuring pooled performance\n",
      "Bandwidth: 350.00, aicc: nan\n",
      "0.00s: Building weights\n"
     ]
    },
    {
     "name": "stderr",
     "output_type": "stream",
     "text": [
      "/Users/martin/dev/pysal/gwlearn/gwlearn/search.py:145: UserWarning: No models fitted due to inability to fulfil imbalance rules.\n",
      "  ).fit(X=X, y=y)\n"
     ]
    },
    {
     "name": "stdout",
     "output_type": "stream",
     "text": [
      "0.99s: Weights ready\n",
      "0.99s: Fitting the models\n",
      "3.51s: Models fitted\n",
      "3.62s: Measuring focal performance\n",
      "3.62s: Computing global likelihood\n",
      "3.62s: Computing information criteria\n",
      "3.63s: Measuring pooled performance\n",
      "Bandwidth: 400.00, aicc: nan\n"
     ]
    },
    {
     "name": "stderr",
     "output_type": "stream",
     "text": [
      "/Users/martin/dev/pysal/gwlearn/gwlearn/search.py:145: UserWarning: No models fitted due to inability to fulfil imbalance rules.\n",
      "  ).fit(X=X, y=y)\n",
      "/Users/martin/dev/pysal/gwlearn/gwlearn/search.py:122: FutureWarning: The behavior of Series.idxmin with all-NA values, or any-NA and skipna=False, is deprecated. In a future version this will raise ValueError\n",
      "  self.optimal_bandwidth_ = self.scores_.idxmin()\n"
     ]
    },
    {
     "data": {
      "text/plain": [
       "<gwlearn.search.BandwidthSearch at 0x176827b10>"
      ]
     },
     "execution_count": 14,
     "metadata": {},
     "output_type": "execute_result"
    }
   ],
   "source": [
    "search = BandwidthSearch(\n",
    "    GWRandomForestClassifier,\n",
    "    geometry=data_sample.representative_point(),\n",
    "    fixed=False,\n",
    "    n_jobs=-1,\n",
    "    search_method=\"interval\",\n",
    "    min_bandwidth=100,\n",
    "    max_bandwidth=400,\n",
    "    interval=50,\n",
    "    criterion=\"aicc\",\n",
    "    metrics=['oob_score', 'prediction_rate'],\n",
    "    verbose=2,\n",
    "    # batch_size=1000,\n",
    "    min_proportion=0.1,\n",
    "    class_weight=\"balanced\",\n",
    "    undersample=True,\n",
    ")\n",
    "search.fit(\n",
    "    data_sample[variables],\n",
    "    y,\n",
    "\n",
    ")"
   ]
  },
  {
   "cell_type": "code",
   "execution_count": 15,
   "id": "337a2cfb",
   "metadata": {},
   "outputs": [
    {
     "data": {
      "text/html": [
       "<div>\n",
       "<style scoped>\n",
       "    .dataframe tbody tr th:only-of-type {\n",
       "        vertical-align: middle;\n",
       "    }\n",
       "\n",
       "    .dataframe tbody tr th {\n",
       "        vertical-align: top;\n",
       "    }\n",
       "\n",
       "    .dataframe thead th {\n",
       "        text-align: right;\n",
       "    }\n",
       "</style>\n",
       "<table border=\"1\" class=\"dataframe\">\n",
       "  <thead>\n",
       "    <tr style=\"text-align: right;\">\n",
       "      <th></th>\n",
       "      <th>oob_score</th>\n",
       "      <th>prediction_rate</th>\n",
       "    </tr>\n",
       "  </thead>\n",
       "  <tbody>\n",
       "    <tr>\n",
       "      <th>100</th>\n",
       "      <td>0.818542</td>\n",
       "      <td>0.0586</td>\n",
       "    </tr>\n",
       "    <tr>\n",
       "      <th>150</th>\n",
       "      <td>0.830415</td>\n",
       "      <td>0.0612</td>\n",
       "    </tr>\n",
       "    <tr>\n",
       "      <th>200</th>\n",
       "      <td>0.867398</td>\n",
       "      <td>0.0464</td>\n",
       "    </tr>\n",
       "    <tr>\n",
       "      <th>250</th>\n",
       "      <td>0.875467</td>\n",
       "      <td>0.0484</td>\n",
       "    </tr>\n",
       "    <tr>\n",
       "      <th>300</th>\n",
       "      <td>NaN</td>\n",
       "      <td>NaN</td>\n",
       "    </tr>\n",
       "    <tr>\n",
       "      <th>350</th>\n",
       "      <td>NaN</td>\n",
       "      <td>NaN</td>\n",
       "    </tr>\n",
       "    <tr>\n",
       "      <th>400</th>\n",
       "      <td>NaN</td>\n",
       "      <td>NaN</td>\n",
       "    </tr>\n",
       "  </tbody>\n",
       "</table>\n",
       "</div>"
      ],
      "text/plain": [
       "     oob_score  prediction_rate\n",
       "100   0.818542           0.0586\n",
       "150   0.830415           0.0612\n",
       "200   0.867398           0.0464\n",
       "250   0.875467           0.0484\n",
       "300        NaN              NaN\n",
       "350        NaN              NaN\n",
       "400        NaN              NaN"
      ]
     },
     "execution_count": 15,
     "metadata": {},
     "output_type": "execute_result"
    }
   ],
   "source": [
    "search.metrics_"
   ]
  },
  {
   "cell_type": "code",
   "execution_count": 16,
   "id": "f525425d",
   "metadata": {},
   "outputs": [],
   "source": [
    "from imblearn.under_sampling import RandomUnderSampler\n",
    "from sklearn.ensemble import RandomForestClassifier"
   ]
  },
  {
   "cell_type": "code",
   "execution_count": 17,
   "id": "f63f2bab",
   "metadata": {},
   "outputs": [],
   "source": [
    "rus = RandomUnderSampler()\n",
    "data_us, y_us = rus.fit_resample(    data_sample[variables],\n",
    "    y,)"
   ]
  },
  {
   "cell_type": "code",
   "execution_count": 18,
   "id": "4b8955a7",
   "metadata": {},
   "outputs": [],
   "source": [
    "from sklearn.model_selection import train_test_split"
   ]
  },
  {
   "cell_type": "code",
   "execution_count": 19,
   "id": "34613d98",
   "metadata": {},
   "outputs": [],
   "source": [
    "X_train, X_test, y_train, y_test = train_test_split(\n",
    "    data_us, y_us, test_size=0.33, random_state=42)\n"
   ]
  },
  {
   "cell_type": "code",
   "execution_count": 24,
   "id": "cdef42cd",
   "metadata": {},
   "outputs": [],
   "source": [
    "gm = RandomForestClassifier(n_jobs=-1, oob_score=True).fit(data_us, y_us)"
   ]
  },
  {
   "cell_type": "code",
   "execution_count": 25,
   "id": "81738d71",
   "metadata": {},
   "outputs": [
    {
     "data": {
      "text/plain": [
       "0.8255813953488372"
      ]
     },
     "execution_count": 25,
     "metadata": {},
     "output_type": "execute_result"
    }
   ],
   "source": [
    "gm.oob_score_"
   ]
  },
  {
   "cell_type": "code",
   "execution_count": 57,
   "id": "35da97e6",
   "metadata": {},
   "outputs": [],
   "source": [
    "from sklearn.metrics import accuracy_score"
   ]
  },
  {
   "cell_type": "code",
   "execution_count": 58,
   "id": "bf05b777",
   "metadata": {},
   "outputs": [
    {
     "data": {
      "text/plain": [
       "0.6431254695717505"
      ]
     },
     "execution_count": 58,
     "metadata": {},
     "output_type": "execute_result"
    }
   ],
   "source": [
    "accuracy_score(y_test, gm.predict(X_test))"
   ]
  },
  {
   "cell_type": "code",
   "execution_count": 73,
   "id": "70aa7977",
   "metadata": {},
   "outputs": [],
   "source": [
    "l = []"
   ]
  },
  {
   "cell_type": "code",
   "execution_count": 74,
   "id": "6dfa70af",
   "metadata": {},
   "outputs": [],
   "source": [
    "if l:\n",
    "    print(1)"
   ]
  },
  {
   "cell_type": "code",
   "execution_count": null,
   "id": "e8d0fed2",
   "metadata": {},
   "outputs": [],
   "source": []
  }
 ],
 "metadata": {
  "kernelspec": {
   "display_name": "default",
   "language": "python",
   "name": "python3"
  },
  "language_info": {
   "codemirror_mode": {
    "name": "ipython",
    "version": 3
   },
   "file_extension": ".py",
   "mimetype": "text/x-python",
   "name": "python",
   "nbconvert_exporter": "python",
   "pygments_lexer": "ipython3",
   "version": "3.13.2"
  }
 },
 "nbformat": 4,
 "nbformat_minor": 5
}
